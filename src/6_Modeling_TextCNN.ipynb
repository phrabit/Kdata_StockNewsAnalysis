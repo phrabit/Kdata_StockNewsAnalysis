{
 "cells": [
  {
   "cell_type": "code",
   "execution_count": 1,
   "id": "40e81980",
   "metadata": {},
   "outputs": [
    {
     "name": "stdout",
     "output_type": "stream",
     "text": [
      "Defaulting to user installation because normal site-packages is not writeable\n",
      "Requirement already satisfied: gensim in c:\\programdata\\anaconda3\\lib\\site-packages (4.1.2)\n",
      "Collecting gensim\n",
      "  Downloading gensim-4.3.1-cp39-cp39-win_amd64.whl (24.0 MB)\n",
      "     ---------------------------------------- 24.0/24.0 MB 3.9 MB/s eta 0:00:00\n",
      "Requirement already satisfied: numpy>=1.18.5 in c:\\users\\이수호\\appdata\\roaming\\python\\python39\\site-packages (from gensim) (1.24.3)\n",
      "Requirement already satisfied: smart-open>=1.8.1 in c:\\programdata\\anaconda3\\lib\\site-packages (from gensim) (5.2.1)\n",
      "Requirement already satisfied: scipy>=1.7.0 in c:\\programdata\\anaconda3\\lib\\site-packages (from gensim) (1.9.1)\n",
      "Installing collected packages: gensim\n",
      "Successfully installed gensim-4.3.1\n"
     ]
    },
    {
     "name": "stderr",
     "output_type": "stream",
     "text": [
      "WARNING: Ignoring invalid distribution -pype1 (c:\\users\\이수호\\appdata\\roaming\\python\\python39\\site-packages)\n",
      "WARNING: Ignoring invalid distribution -pype1 (c:\\users\\이수호\\appdata\\roaming\\python\\python39\\site-packages)\n",
      "WARNING: Ignoring invalid distribution -pype1 (c:\\users\\이수호\\appdata\\roaming\\python\\python39\\site-packages)\n",
      "WARNING: Ignoring invalid distribution -pype1 (c:\\users\\이수호\\appdata\\roaming\\python\\python39\\site-packages)\n",
      "WARNING: Ignoring invalid distribution -pype1 (c:\\users\\이수호\\appdata\\roaming\\python\\python39\\site-packages)\n",
      "WARNING: Ignoring invalid distribution -pype1 (c:\\users\\이수호\\appdata\\roaming\\python\\python39\\site-packages)\n",
      "WARNING: Ignoring invalid distribution -pype1 (c:\\users\\이수호\\appdata\\roaming\\python\\python39\\site-packages)\n"
     ]
    },
    {
     "name": "stdout",
     "output_type": "stream",
     "text": [
      "Defaulting to user installation because normal site-packages is not writeable\n",
      "Collecting keras-tuner\n",
      "  Downloading keras_tuner-1.3.5-py3-none-any.whl (176 kB)\n",
      "     -------------------------------------- 176.1/176.1 kB 2.7 MB/s eta 0:00:00\n",
      "Collecting kt-legacy\n",
      "  Downloading kt_legacy-1.0.5-py3-none-any.whl (9.6 kB)\n",
      "Requirement already satisfied: packaging in c:\\programdata\\anaconda3\\lib\\site-packages (from keras-tuner) (21.3)\n",
      "Requirement already satisfied: requests in c:\\programdata\\anaconda3\\lib\\site-packages (from keras-tuner) (2.28.1)\n",
      "Requirement already satisfied: pyparsing!=3.0.5,>=2.0.2 in c:\\programdata\\anaconda3\\lib\\site-packages (from packaging->keras-tuner) (3.0.9)\n",
      "Requirement already satisfied: charset-normalizer<3,>=2 in c:\\programdata\\anaconda3\\lib\\site-packages (from requests->keras-tuner) (2.0.4)\n",
      "Requirement already satisfied: certifi>=2017.4.17 in c:\\programdata\\anaconda3\\lib\\site-packages (from requests->keras-tuner) (2022.9.14)\n",
      "Requirement already satisfied: idna<4,>=2.5 in c:\\programdata\\anaconda3\\lib\\site-packages (from requests->keras-tuner) (3.3)\n",
      "Requirement already satisfied: urllib3<1.27,>=1.21.1 in c:\\programdata\\anaconda3\\lib\\site-packages (from requests->keras-tuner) (1.26.11)\n",
      "Installing collected packages: kt-legacy, keras-tuner\n",
      "Successfully installed keras-tuner-1.3.5 kt-legacy-1.0.5\n"
     ]
    },
    {
     "name": "stderr",
     "output_type": "stream",
     "text": [
      "WARNING: Ignoring invalid distribution -pype1 (c:\\users\\이수호\\appdata\\roaming\\python\\python39\\site-packages)\n",
      "WARNING: Ignoring invalid distribution -pype1 (c:\\users\\이수호\\appdata\\roaming\\python\\python39\\site-packages)\n",
      "WARNING: Ignoring invalid distribution -pype1 (c:\\users\\이수호\\appdata\\roaming\\python\\python39\\site-packages)\n",
      "WARNING: Ignoring invalid distribution -pype1 (c:\\users\\이수호\\appdata\\roaming\\python\\python39\\site-packages)\n",
      "WARNING: Ignoring invalid distribution -pype1 (c:\\users\\이수호\\appdata\\roaming\\python\\python39\\site-packages)\n",
      "WARNING: Ignoring invalid distribution -pype1 (c:\\users\\이수호\\appdata\\roaming\\python\\python39\\site-packages)\n",
      "WARNING: Ignoring invalid distribution -pype1 (c:\\users\\이수호\\appdata\\roaming\\python\\python39\\site-packages)\n",
      "WARNING: Ignoring invalid distribution -pype1 (c:\\users\\이수호\\appdata\\roaming\\python\\python39\\site-packages)\n"
     ]
    },
    {
     "name": "stdout",
     "output_type": "stream",
     "text": [
      "Defaulting to user installation because normal site-packages is not writeable\n",
      "Requirement already satisfied: pymysql in c:\\users\\이수호\\appdata\\roaming\\python\\python39\\site-packages (1.1.0)\n"
     ]
    },
    {
     "name": "stderr",
     "output_type": "stream",
     "text": [
      "WARNING: Ignoring invalid distribution -pype1 (c:\\users\\이수호\\appdata\\roaming\\python\\python39\\site-packages)\n",
      "WARNING: Ignoring invalid distribution -pype1 (c:\\users\\이수호\\appdata\\roaming\\python\\python39\\site-packages)\n",
      "WARNING: Ignoring invalid distribution -pype1 (c:\\users\\이수호\\appdata\\roaming\\python\\python39\\site-packages)\n",
      "WARNING: Ignoring invalid distribution -pype1 (c:\\users\\이수호\\appdata\\roaming\\python\\python39\\site-packages)\n",
      "WARNING: Ignoring invalid distribution -pype1 (c:\\users\\이수호\\appdata\\roaming\\python\\python39\\site-packages)\n",
      "WARNING: Ignoring invalid distribution -pype1 (c:\\users\\이수호\\appdata\\roaming\\python\\python39\\site-packages)\n"
     ]
    },
    {
     "name": "stdout",
     "output_type": "stream",
     "text": [
      "Defaulting to user installation because normal site-packages is not writeable\n",
      "Collecting tensorflow\n",
      "  Using cached tensorflow-2.13.0-cp39-cp39-win_amd64.whl (1.9 kB)\n",
      "Requirement already satisfied: tensorflow-intel==2.13.0 in c:\\users\\이수호\\appdata\\roaming\\python\\python39\\site-packages (from tensorflow) (2.13.0)\n",
      "Requirement already satisfied: tensorboard<2.14,>=2.13 in c:\\users\\이수호\\appdata\\roaming\\python\\python39\\site-packages (from tensorflow-intel==2.13.0->tensorflow) (2.13.0)\n",
      "Requirement already satisfied: h5py>=2.9.0 in c:\\programdata\\anaconda3\\lib\\site-packages (from tensorflow-intel==2.13.0->tensorflow) (3.7.0)\n",
      "Requirement already satisfied: tensorflow-io-gcs-filesystem>=0.23.1 in c:\\users\\이수호\\appdata\\roaming\\python\\python39\\site-packages (from tensorflow-intel==2.13.0->tensorflow) (0.31.0)\n",
      "Requirement already satisfied: typing-extensions<4.6.0,>=3.6.6 in c:\\programdata\\anaconda3\\lib\\site-packages (from tensorflow-intel==2.13.0->tensorflow) (4.3.0)\n",
      "Requirement already satisfied: grpcio<2.0,>=1.24.3 in c:\\users\\이수호\\appdata\\roaming\\python\\python39\\site-packages (from tensorflow-intel==2.13.0->tensorflow) (1.56.2)\n",
      "Requirement already satisfied: google-pasta>=0.1.1 in c:\\users\\이수호\\appdata\\roaming\\python\\python39\\site-packages (from tensorflow-intel==2.13.0->tensorflow) (0.2.0)\n",
      "Requirement already satisfied: gast<=0.4.0,>=0.2.1 in c:\\users\\이수호\\appdata\\roaming\\python\\python39\\site-packages (from tensorflow-intel==2.13.0->tensorflow) (0.4.0)\n",
      "Requirement already satisfied: astunparse>=1.6.0 in c:\\users\\이수호\\appdata\\roaming\\python\\python39\\site-packages (from tensorflow-intel==2.13.0->tensorflow) (1.6.3)\n",
      "Requirement already satisfied: packaging in c:\\programdata\\anaconda3\\lib\\site-packages (from tensorflow-intel==2.13.0->tensorflow) (21.3)\n",
      "Requirement already satisfied: opt-einsum>=2.3.2 in c:\\users\\이수호\\appdata\\roaming\\python\\python39\\site-packages (from tensorflow-intel==2.13.0->tensorflow) (3.3.0)\n",
      "Requirement already satisfied: protobuf!=4.21.0,!=4.21.1,!=4.21.2,!=4.21.3,!=4.21.4,!=4.21.5,<5.0.0dev,>=3.20.3 in c:\\users\\이수호\\appdata\\roaming\\python\\python39\\site-packages (from tensorflow-intel==2.13.0->tensorflow) (4.23.4)\n",
      "Requirement already satisfied: numpy<=1.24.3,>=1.22 in c:\\users\\이수호\\appdata\\roaming\\python\\python39\\site-packages (from tensorflow-intel==2.13.0->tensorflow) (1.24.3)\n",
      "Requirement already satisfied: six>=1.12.0 in c:\\programdata\\anaconda3\\lib\\site-packages (from tensorflow-intel==2.13.0->tensorflow) (1.16.0)\n",
      "Requirement already satisfied: tensorflow-estimator<2.14,>=2.13.0 in c:\\users\\이수호\\appdata\\roaming\\python\\python39\\site-packages (from tensorflow-intel==2.13.0->tensorflow) (2.13.0)\n",
      "Requirement already satisfied: flatbuffers>=23.1.21 in c:\\users\\이수호\\appdata\\roaming\\python\\python39\\site-packages (from tensorflow-intel==2.13.0->tensorflow) (23.5.26)\n",
      "Requirement already satisfied: wrapt>=1.11.0 in c:\\programdata\\anaconda3\\lib\\site-packages (from tensorflow-intel==2.13.0->tensorflow) (1.14.1)\n",
      "Requirement already satisfied: absl-py>=1.0.0 in c:\\users\\이수호\\appdata\\roaming\\python\\python39\\site-packages (from tensorflow-intel==2.13.0->tensorflow) (1.4.0)\n",
      "Requirement already satisfied: setuptools in c:\\programdata\\anaconda3\\lib\\site-packages (from tensorflow-intel==2.13.0->tensorflow) (63.4.1)\n",
      "Requirement already satisfied: termcolor>=1.1.0 in c:\\users\\이수호\\appdata\\roaming\\python\\python39\\site-packages (from tensorflow-intel==2.13.0->tensorflow) (2.3.0)\n",
      "Requirement already satisfied: libclang>=13.0.0 in c:\\users\\이수호\\appdata\\roaming\\python\\python39\\site-packages (from tensorflow-intel==2.13.0->tensorflow) (16.0.6)\n",
      "Requirement already satisfied: keras<2.14,>=2.13.1 in c:\\users\\이수호\\appdata\\roaming\\python\\python39\\site-packages (from tensorflow-intel==2.13.0->tensorflow) (2.13.1)\n",
      "Requirement already satisfied: wheel<1.0,>=0.23.0 in c:\\programdata\\anaconda3\\lib\\site-packages (from astunparse>=1.6.0->tensorflow-intel==2.13.0->tensorflow) (0.37.1)\n",
      "Requirement already satisfied: markdown>=2.6.8 in c:\\programdata\\anaconda3\\lib\\site-packages (from tensorboard<2.14,>=2.13->tensorflow-intel==2.13.0->tensorflow) (3.3.4)\n",
      "Requirement already satisfied: tensorboard-data-server<0.8.0,>=0.7.0 in c:\\users\\이수호\\appdata\\roaming\\python\\python39\\site-packages (from tensorboard<2.14,>=2.13->tensorflow-intel==2.13.0->tensorflow) (0.7.1)\n",
      "Requirement already satisfied: google-auth-oauthlib<1.1,>=0.5 in c:\\users\\이수호\\appdata\\roaming\\python\\python39\\site-packages (from tensorboard<2.14,>=2.13->tensorflow-intel==2.13.0->tensorflow) (1.0.0)\n",
      "Requirement already satisfied: requests<3,>=2.21.0 in c:\\programdata\\anaconda3\\lib\\site-packages (from tensorboard<2.14,>=2.13->tensorflow-intel==2.13.0->tensorflow) (2.28.1)\n",
      "Requirement already satisfied: google-auth<3,>=1.6.3 in c:\\users\\이수호\\appdata\\roaming\\python\\python39\\site-packages (from tensorboard<2.14,>=2.13->tensorflow-intel==2.13.0->tensorflow) (2.22.0)\n",
      "Requirement already satisfied: werkzeug>=1.0.1 in c:\\programdata\\anaconda3\\lib\\site-packages (from tensorboard<2.14,>=2.13->tensorflow-intel==2.13.0->tensorflow) (2.0.3)\n",
      "Requirement already satisfied: pyparsing!=3.0.5,>=2.0.2 in c:\\programdata\\anaconda3\\lib\\site-packages (from packaging->tensorflow-intel==2.13.0->tensorflow) (3.0.9)\n",
      "Requirement already satisfied: urllib3<2.0 in c:\\programdata\\anaconda3\\lib\\site-packages (from google-auth<3,>=1.6.3->tensorboard<2.14,>=2.13->tensorflow-intel==2.13.0->tensorflow) (1.26.11)\n",
      "Requirement already satisfied: rsa<5,>=3.1.4 in c:\\users\\이수호\\appdata\\roaming\\python\\python39\\site-packages (from google-auth<3,>=1.6.3->tensorboard<2.14,>=2.13->tensorflow-intel==2.13.0->tensorflow) (4.9)\n",
      "Requirement already satisfied: pyasn1-modules>=0.2.1 in c:\\programdata\\anaconda3\\lib\\site-packages (from google-auth<3,>=1.6.3->tensorboard<2.14,>=2.13->tensorflow-intel==2.13.0->tensorflow) (0.2.8)\n",
      "Requirement already satisfied: cachetools<6.0,>=2.0.0 in c:\\users\\이수호\\appdata\\roaming\\python\\python39\\site-packages (from google-auth<3,>=1.6.3->tensorboard<2.14,>=2.13->tensorflow-intel==2.13.0->tensorflow) (5.3.1)\n",
      "Requirement already satisfied: requests-oauthlib>=0.7.0 in c:\\users\\이수호\\appdata\\roaming\\python\\python39\\site-packages (from google-auth-oauthlib<1.1,>=0.5->tensorboard<2.14,>=2.13->tensorflow-intel==2.13.0->tensorflow) (1.3.1)\n",
      "Requirement already satisfied: certifi>=2017.4.17 in c:\\programdata\\anaconda3\\lib\\site-packages (from requests<3,>=2.21.0->tensorboard<2.14,>=2.13->tensorflow-intel==2.13.0->tensorflow) (2022.9.14)\n",
      "Requirement already satisfied: charset-normalizer<3,>=2 in c:\\programdata\\anaconda3\\lib\\site-packages (from requests<3,>=2.21.0->tensorboard<2.14,>=2.13->tensorflow-intel==2.13.0->tensorflow) (2.0.4)\n",
      "Requirement already satisfied: idna<4,>=2.5 in c:\\programdata\\anaconda3\\lib\\site-packages (from requests<3,>=2.21.0->tensorboard<2.14,>=2.13->tensorflow-intel==2.13.0->tensorflow) (3.3)\n",
      "Requirement already satisfied: pyasn1<0.5.0,>=0.4.6 in c:\\programdata\\anaconda3\\lib\\site-packages (from pyasn1-modules>=0.2.1->google-auth<3,>=1.6.3->tensorboard<2.14,>=2.13->tensorflow-intel==2.13.0->tensorflow) (0.4.8)\n",
      "Requirement already satisfied: oauthlib>=3.0.0 in c:\\users\\이수호\\appdata\\roaming\\python\\python39\\site-packages (from requests-oauthlib>=0.7.0->google-auth-oauthlib<1.1,>=0.5->tensorboard<2.14,>=2.13->tensorflow-intel==2.13.0->tensorflow) (3.2.2)\n",
      "Installing collected packages: tensorflow\n",
      "Successfully installed tensorflow-2.13.0\n"
     ]
    },
    {
     "name": "stderr",
     "output_type": "stream",
     "text": [
      "WARNING: Ignoring invalid distribution -pype1 (c:\\users\\이수호\\appdata\\roaming\\python\\python39\\site-packages)\n",
      "WARNING: Ignoring invalid distribution -pype1 (c:\\users\\이수호\\appdata\\roaming\\python\\python39\\site-packages)\n",
      "WARNING: Ignoring invalid distribution -pype1 (c:\\users\\이수호\\appdata\\roaming\\python\\python39\\site-packages)\n",
      "WARNING: Ignoring invalid distribution -pype1 (c:\\users\\이수호\\appdata\\roaming\\python\\python39\\site-packages)\n",
      "WARNING: Ignoring invalid distribution -pype1 (c:\\users\\이수호\\appdata\\roaming\\python\\python39\\site-packages)\n",
      "WARNING: Ignoring invalid distribution -pype1 (c:\\users\\이수호\\appdata\\roaming\\python\\python39\\site-packages)\n",
      "WARNING: Ignoring invalid distribution -pype1 (c:\\users\\이수호\\appdata\\roaming\\python\\python39\\site-packages)\n"
     ]
    }
   ],
   "source": [
    "!pip install gensim --upgrade\n",
    "!pip install -U keras-tuner\n",
    "!pip install pymysql\n",
    "!pip install tensorflow"
   ]
  },
  {
   "cell_type": "code",
   "execution_count": 1,
   "id": "a885f5c8",
   "metadata": {},
   "outputs": [],
   "source": [
    "import IPython\n",
    "import keras_tuner as kt\n",
    "from tensorflow import keras\n",
    "from tensorflow.keras.models import Sequential, load_model\n",
    "from tensorflow.keras.layers import Embedding, Dense, LSTM, Bidirectional, Dropout, Conv1D, GlobalMaxPooling1D\n",
    "from tensorflow.keras.callbacks import EarlyStopping, ModelCheckpoint\n",
    "from tensorflow.keras.preprocessing.text import Tokenizer\n",
    "from tensorflow.keras.preprocessing.sequence import pad_sequences\n",
    "import tensorflow as tf\n",
    "import pandas as pd\n",
    "import numpy as np\n",
    "import pymysql"
   ]
  },
  {
   "cell_type": "code",
   "execution_count": 3,
   "id": "7597287e",
   "metadata": {},
   "outputs": [
    {
     "data": {
      "text/html": [
       "<div>\n",
       "<style scoped>\n",
       "    .dataframe tbody tr th:only-of-type {\n",
       "        vertical-align: middle;\n",
       "    }\n",
       "\n",
       "    .dataframe tbody tr th {\n",
       "        vertical-align: top;\n",
       "    }\n",
       "\n",
       "    .dataframe thead th {\n",
       "        text-align: right;\n",
       "    }\n",
       "</style>\n",
       "<table border=\"1\" class=\"dataframe\">\n",
       "  <thead>\n",
       "    <tr style=\"text-align: right;\">\n",
       "      <th></th>\n",
       "      <th>Unnamed: 0</th>\n",
       "      <th>stock_id</th>\n",
       "      <th>date</th>\n",
       "      <th>closing_price</th>\n",
       "      <th>market_price</th>\n",
       "      <th>high_price</th>\n",
       "      <th>low_price</th>\n",
       "      <th>label1</th>\n",
       "      <th>label2</th>\n",
       "    </tr>\n",
       "  </thead>\n",
       "  <tbody>\n",
       "    <tr>\n",
       "      <th>0</th>\n",
       "      <td>0</td>\n",
       "      <td>80</td>\n",
       "      <td>2023-08-02</td>\n",
       "      <td>20300.0</td>\n",
       "      <td>20600.0</td>\n",
       "      <td>20700.0</td>\n",
       "      <td>20250.0</td>\n",
       "      <td>0</td>\n",
       "      <td>1</td>\n",
       "    </tr>\n",
       "    <tr>\n",
       "      <th>1</th>\n",
       "      <td>1</td>\n",
       "      <td>80</td>\n",
       "      <td>2023-08-01</td>\n",
       "      <td>20550.0</td>\n",
       "      <td>20350.0</td>\n",
       "      <td>20700.0</td>\n",
       "      <td>20250.0</td>\n",
       "      <td>1</td>\n",
       "      <td>1</td>\n",
       "    </tr>\n",
       "    <tr>\n",
       "      <th>2</th>\n",
       "      <td>2</td>\n",
       "      <td>80</td>\n",
       "      <td>2023-07-31</td>\n",
       "      <td>20300.0</td>\n",
       "      <td>20250.0</td>\n",
       "      <td>20700.0</td>\n",
       "      <td>20150.0</td>\n",
       "      <td>1</td>\n",
       "      <td>1</td>\n",
       "    </tr>\n",
       "    <tr>\n",
       "      <th>3</th>\n",
       "      <td>3</td>\n",
       "      <td>80</td>\n",
       "      <td>2023-07-28</td>\n",
       "      <td>20050.0</td>\n",
       "      <td>20000.0</td>\n",
       "      <td>20250.0</td>\n",
       "      <td>19920.0</td>\n",
       "      <td>1</td>\n",
       "      <td>0</td>\n",
       "    </tr>\n",
       "    <tr>\n",
       "      <th>4</th>\n",
       "      <td>4</td>\n",
       "      <td>80</td>\n",
       "      <td>2023-07-27</td>\n",
       "      <td>20250.0</td>\n",
       "      <td>19150.0</td>\n",
       "      <td>20250.0</td>\n",
       "      <td>19150.0</td>\n",
       "      <td>1</td>\n",
       "      <td>0</td>\n",
       "    </tr>\n",
       "    <tr>\n",
       "      <th>...</th>\n",
       "      <td>...</td>\n",
       "      <td>...</td>\n",
       "      <td>...</td>\n",
       "      <td>...</td>\n",
       "      <td>...</td>\n",
       "      <td>...</td>\n",
       "      <td>...</td>\n",
       "      <td>...</td>\n",
       "      <td>...</td>\n",
       "    </tr>\n",
       "    <tr>\n",
       "      <th>12995</th>\n",
       "      <td>12995</td>\n",
       "      <td>402340</td>\n",
       "      <td>2023-05-08</td>\n",
       "      <td>42100.0</td>\n",
       "      <td>42100.0</td>\n",
       "      <td>42400.0</td>\n",
       "      <td>41750.0</td>\n",
       "      <td>1</td>\n",
       "      <td>1</td>\n",
       "    </tr>\n",
       "    <tr>\n",
       "      <th>12996</th>\n",
       "      <td>12996</td>\n",
       "      <td>402340</td>\n",
       "      <td>2023-05-04</td>\n",
       "      <td>41800.0</td>\n",
       "      <td>41500.0</td>\n",
       "      <td>42300.0</td>\n",
       "      <td>41350.0</td>\n",
       "      <td>1</td>\n",
       "      <td>0</td>\n",
       "    </tr>\n",
       "    <tr>\n",
       "      <th>12997</th>\n",
       "      <td>12997</td>\n",
       "      <td>402340</td>\n",
       "      <td>2023-05-03</td>\n",
       "      <td>41750.0</td>\n",
       "      <td>41200.0</td>\n",
       "      <td>42050.0</td>\n",
       "      <td>41200.0</td>\n",
       "      <td>1</td>\n",
       "      <td>0</td>\n",
       "    </tr>\n",
       "    <tr>\n",
       "      <th>12998</th>\n",
       "      <td>12998</td>\n",
       "      <td>402340</td>\n",
       "      <td>2023-05-02</td>\n",
       "      <td>41350.0</td>\n",
       "      <td>42500.0</td>\n",
       "      <td>42500.0</td>\n",
       "      <td>40500.0</td>\n",
       "      <td>0</td>\n",
       "      <td>1</td>\n",
       "    </tr>\n",
       "    <tr>\n",
       "      <th>12999</th>\n",
       "      <td>12999</td>\n",
       "      <td>402340</td>\n",
       "      <td>2023-04-28</td>\n",
       "      <td>42450.0</td>\n",
       "      <td>40450.0</td>\n",
       "      <td>42550.0</td>\n",
       "      <td>40450.0</td>\n",
       "      <td>-1</td>\n",
       "      <td>-1</td>\n",
       "    </tr>\n",
       "  </tbody>\n",
       "</table>\n",
       "<p>13000 rows × 9 columns</p>\n",
       "</div>"
      ],
      "text/plain": [
       "       Unnamed: 0  stock_id        date  closing_price  market_price  \\\n",
       "0               0        80  2023-08-02        20300.0       20600.0   \n",
       "1               1        80  2023-08-01        20550.0       20350.0   \n",
       "2               2        80  2023-07-31        20300.0       20250.0   \n",
       "3               3        80  2023-07-28        20050.0       20000.0   \n",
       "4               4        80  2023-07-27        20250.0       19150.0   \n",
       "...           ...       ...         ...            ...           ...   \n",
       "12995       12995    402340  2023-05-08        42100.0       42100.0   \n",
       "12996       12996    402340  2023-05-04        41800.0       41500.0   \n",
       "12997       12997    402340  2023-05-03        41750.0       41200.0   \n",
       "12998       12998    402340  2023-05-02        41350.0       42500.0   \n",
       "12999       12999    402340  2023-04-28        42450.0       40450.0   \n",
       "\n",
       "       high_price  low_price  label1  label2  \n",
       "0         20700.0    20250.0       0       1  \n",
       "1         20700.0    20250.0       1       1  \n",
       "2         20700.0    20150.0       1       1  \n",
       "3         20250.0    19920.0       1       0  \n",
       "4         20250.0    19150.0       1       0  \n",
       "...           ...        ...     ...     ...  \n",
       "12995     42400.0    41750.0       1       1  \n",
       "12996     42300.0    41350.0       1       0  \n",
       "12997     42050.0    41200.0       1       0  \n",
       "12998     42500.0    40500.0       0       1  \n",
       "12999     42550.0    40450.0      -1      -1  \n",
       "\n",
       "[13000 rows x 9 columns]"
      ]
     },
     "execution_count": 3,
     "metadata": {},
     "output_type": "execute_result"
    }
   ],
   "source": [
    "stock = pd.read_csv('labeled_stock_prices.csv')\n",
    "stock"
   ]
  },
  {
   "cell_type": "code",
   "execution_count": 4,
   "id": "016ef1a8",
   "metadata": {},
   "outputs": [
    {
     "data": {
      "text/html": [
       "<div>\n",
       "<style scoped>\n",
       "    .dataframe tbody tr th:only-of-type {\n",
       "        vertical-align: middle;\n",
       "    }\n",
       "\n",
       "    .dataframe tbody tr th {\n",
       "        vertical-align: top;\n",
       "    }\n",
       "\n",
       "    .dataframe thead th {\n",
       "        text-align: right;\n",
       "    }\n",
       "</style>\n",
       "<table border=\"1\" class=\"dataframe\">\n",
       "  <thead>\n",
       "    <tr style=\"text-align: right;\">\n",
       "      <th></th>\n",
       "      <th>Unnamed: 0</th>\n",
       "      <th>stock_id</th>\n",
       "      <th>text</th>\n",
       "      <th>date</th>\n",
       "      <th>stock_name</th>\n",
       "      <th>category</th>\n",
       "      <th>label</th>\n",
       "      <th>token</th>\n",
       "      <th>token_list</th>\n",
       "    </tr>\n",
       "  </thead>\n",
       "  <tbody>\n",
       "    <tr>\n",
       "      <th>0</th>\n",
       "      <td>0</td>\n",
       "      <td>80</td>\n",
       "      <td>안호근 한국농업기술진흥원 원장 안호근 한국농업기술진흥원 원장은 첨단기술에 기반한 농...</td>\n",
       "      <td>2023-07-31</td>\n",
       "      <td>하이트진로</td>\n",
       "      <td>생활소비재</td>\n",
       "      <td>1</td>\n",
       "      <td>['안호근', '한국농업기술진흥원', '원장', '안호근', '한국농업기술진흥원',...</td>\n",
       "      <td>['안호근', '한국농업기술진흥원', '원장', '안호근', '한국농업기술진흥원',...</td>\n",
       "    </tr>\n",
       "    <tr>\n",
       "      <th>1</th>\n",
       "      <td>1</td>\n",
       "      <td>80</td>\n",
       "      <td>김성희 고려대 노동대학원 교수 한국 불안정한 노사관계 심각한 수준 취약계층 중심의...</td>\n",
       "      <td>2023-07-31</td>\n",
       "      <td>하이트진로</td>\n",
       "      <td>생활소비재</td>\n",
       "      <td>1</td>\n",
       "      <td>['김성희', '노동대학원', '교수', '한국', '불안정한', '노사관계', '...</td>\n",
       "      <td>['김성희', '노동대학원', '교수', '한국', '불안정한', '노사관계', '...</td>\n",
       "    </tr>\n",
       "    <tr>\n",
       "      <th>2</th>\n",
       "      <td>2</td>\n",
       "      <td>80</td>\n",
       "      <td>내수용은 공장 출고가 수출용은 평균 계약단가 기준 내수용 출고가에 관세 주세 교육세...</td>\n",
       "      <td>2023-07-31</td>\n",
       "      <td>하이트진로</td>\n",
       "      <td>생활소비재</td>\n",
       "      <td>1</td>\n",
       "      <td>['내수용', '공장', '출고', '수출용', '평균', '계약단', '기준', ...</td>\n",
       "      <td>['내수용', '공장', '출고', '수출용', '평균', '계약단', '기준', ...</td>\n",
       "    </tr>\n",
       "    <tr>\n",
       "      <th>3</th>\n",
       "      <td>3</td>\n",
       "      <td>80</td>\n",
       "      <td>대기업 브랜드 밀맥주 카스 화이트뿐 유흥시장 중심 마케팅에 밀맥주 소홀 가정시장 커...</td>\n",
       "      <td>2023-07-31</td>\n",
       "      <td>하이트진로</td>\n",
       "      <td>생활소비재</td>\n",
       "      <td>1</td>\n",
       "      <td>['대기업', '브랜드', '밀맥주', '카스', '화이트', '유흥시장', '중심...</td>\n",
       "      <td>['대기업', '브랜드', '밀맥주', '카스', '화이트', '유흥시장', '중심...</td>\n",
       "    </tr>\n",
       "    <tr>\n",
       "      <th>4</th>\n",
       "      <td>4</td>\n",
       "      <td>80</td>\n",
       "      <td>켈리 재판매 및 DB 금지 류난영 기자 하이트진로의 맥주 켈리 와 롯데칠성음료의 소...</td>\n",
       "      <td>2023-07-31</td>\n",
       "      <td>하이트진로</td>\n",
       "      <td>생활소비재</td>\n",
       "      <td>1</td>\n",
       "      <td>['켈리', '재판매', '금지', '류난영', '기', '하이트진로', '맥주',...</td>\n",
       "      <td>['켈리', '재판매', '금지', '류난영', '하이트진로', '맥주', '켈리'...</td>\n",
       "    </tr>\n",
       "    <tr>\n",
       "      <th>...</th>\n",
       "      <td>...</td>\n",
       "      <td>...</td>\n",
       "      <td>...</td>\n",
       "      <td>...</td>\n",
       "      <td>...</td>\n",
       "      <td>...</td>\n",
       "      <td>...</td>\n",
       "      <td>...</td>\n",
       "      <td>...</td>\n",
       "    </tr>\n",
       "    <tr>\n",
       "      <th>132331</th>\n",
       "      <td>132332</td>\n",
       "      <td>402340</td>\n",
       "      <td>LG에너지솔루션 개인 순매수 1위 3일 코스피지수가 1 가까이 하락했다 이날 코스피...</td>\n",
       "      <td>2023-05-03</td>\n",
       "      <td>SK스퀘어</td>\n",
       "      <td>정보기술</td>\n",
       "      <td>1</td>\n",
       "      <td>['에너지솔루션', '개', '순매수', '1위', '3', '코스피지수', '1'...</td>\n",
       "      <td>['에너지솔루션', '순매수', '코스피지수', '코스피지수', '거래', '지수'...</td>\n",
       "    </tr>\n",
       "    <tr>\n",
       "      <th>132332</th>\n",
       "      <td>132333</td>\n",
       "      <td>402340</td>\n",
       "      <td>투자금은 자산 매각으로 마련하라 SK그룹 투자 신중론 회장 지시 자금 조달 빨간불...</td>\n",
       "      <td>2023-05-03</td>\n",
       "      <td>SK스퀘어</td>\n",
       "      <td>정보기술</td>\n",
       "      <td>1</td>\n",
       "      <td>['투자금', '자산', '매각', '마련', '그룹', '투', '신중론', '회...</td>\n",
       "      <td>['투자금', '자산', '매각', '마련', '신중론', '회장', '지시', '...</td>\n",
       "    </tr>\n",
       "    <tr>\n",
       "      <th>132333</th>\n",
       "      <td>132334</td>\n",
       "      <td>402340</td>\n",
       "      <td>차세대 유니콘으로 기대를 받다 경영난으로 고강도 구조조정에 돌입한 그린랩스가 최대주...</td>\n",
       "      <td>2023-05-03</td>\n",
       "      <td>SK스퀘어</td>\n",
       "      <td>정보기술</td>\n",
       "      <td>1</td>\n",
       "      <td>['차세대', '유니콘', '기대', '경영난', '고강도', '구조조정', '돌입...</td>\n",
       "      <td>['차세대', '유니콘', '기대', '경영난', '고강도', '구조조정', '돌입...</td>\n",
       "    </tr>\n",
       "    <tr>\n",
       "      <th>132334</th>\n",
       "      <td>132335</td>\n",
       "      <td>402340</td>\n",
       "      <td>포스코퓨처엠 개인 순매수 1위 코스피가 2일 외국인과 기관의 매수세에 힘입어 상승하...</td>\n",
       "      <td>2023-05-02</td>\n",
       "      <td>SK스퀘어</td>\n",
       "      <td>정보기술</td>\n",
       "      <td>1</td>\n",
       "      <td>['포스코퓨처엠', '개', '순매수', '1위', '코스피', '2', '외국인'...</td>\n",
       "      <td>['포스코퓨처엠', '순매수', '코스피', '외국인', '기관', '수세', '안...</td>\n",
       "    </tr>\n",
       "    <tr>\n",
       "      <th>132335</th>\n",
       "      <td>132336</td>\n",
       "      <td>402340</td>\n",
       "      <td>네이버 카카오 디지털 휴먼 경쟁력은 로지 BTS 이정재 등과 엑스포 홍보대사 카카오...</td>\n",
       "      <td>2023-05-01</td>\n",
       "      <td>SK스퀘어</td>\n",
       "      <td>정보기술</td>\n",
       "      <td>0</td>\n",
       "      <td>['네이버', '카카오', '디지털', '휴먼', '경쟁력', '로지', '이정재'...</td>\n",
       "      <td>['네이버', '카카오', '디지털', '휴먼', '경쟁력', '로지', '이정재'...</td>\n",
       "    </tr>\n",
       "  </tbody>\n",
       "</table>\n",
       "<p>132336 rows × 9 columns</p>\n",
       "</div>"
      ],
      "text/plain": [
       "        Unnamed: 0  stock_id  \\\n",
       "0                0        80   \n",
       "1                1        80   \n",
       "2                2        80   \n",
       "3                3        80   \n",
       "4                4        80   \n",
       "...            ...       ...   \n",
       "132331      132332    402340   \n",
       "132332      132333    402340   \n",
       "132333      132334    402340   \n",
       "132334      132335    402340   \n",
       "132335      132336    402340   \n",
       "\n",
       "                                                     text        date  \\\n",
       "0       안호근 한국농업기술진흥원 원장 안호근 한국농업기술진흥원 원장은 첨단기술에 기반한 농...  2023-07-31   \n",
       "1        김성희 고려대 노동대학원 교수 한국 불안정한 노사관계 심각한 수준 취약계층 중심의...  2023-07-31   \n",
       "2       내수용은 공장 출고가 수출용은 평균 계약단가 기준 내수용 출고가에 관세 주세 교육세...  2023-07-31   \n",
       "3       대기업 브랜드 밀맥주 카스 화이트뿐 유흥시장 중심 마케팅에 밀맥주 소홀 가정시장 커...  2023-07-31   \n",
       "4       켈리 재판매 및 DB 금지 류난영 기자 하이트진로의 맥주 켈리 와 롯데칠성음료의 소...  2023-07-31   \n",
       "...                                                   ...         ...   \n",
       "132331  LG에너지솔루션 개인 순매수 1위 3일 코스피지수가 1 가까이 하락했다 이날 코스피...  2023-05-03   \n",
       "132332   투자금은 자산 매각으로 마련하라 SK그룹 투자 신중론 회장 지시 자금 조달 빨간불...  2023-05-03   \n",
       "132333  차세대 유니콘으로 기대를 받다 경영난으로 고강도 구조조정에 돌입한 그린랩스가 최대주...  2023-05-03   \n",
       "132334  포스코퓨처엠 개인 순매수 1위 코스피가 2일 외국인과 기관의 매수세에 힘입어 상승하...  2023-05-02   \n",
       "132335  네이버 카카오 디지털 휴먼 경쟁력은 로지 BTS 이정재 등과 엑스포 홍보대사 카카오...  2023-05-01   \n",
       "\n",
       "       stock_name category  label  \\\n",
       "0           하이트진로    생활소비재      1   \n",
       "1           하이트진로    생활소비재      1   \n",
       "2           하이트진로    생활소비재      1   \n",
       "3           하이트진로    생활소비재      1   \n",
       "4           하이트진로    생활소비재      1   \n",
       "...           ...      ...    ...   \n",
       "132331      SK스퀘어     정보기술      1   \n",
       "132332      SK스퀘어     정보기술      1   \n",
       "132333      SK스퀘어     정보기술      1   \n",
       "132334      SK스퀘어     정보기술      1   \n",
       "132335      SK스퀘어     정보기술      0   \n",
       "\n",
       "                                                    token  \\\n",
       "0       ['안호근', '한국농업기술진흥원', '원장', '안호근', '한국농업기술진흥원',...   \n",
       "1       ['김성희', '노동대학원', '교수', '한국', '불안정한', '노사관계', '...   \n",
       "2       ['내수용', '공장', '출고', '수출용', '평균', '계약단', '기준', ...   \n",
       "3       ['대기업', '브랜드', '밀맥주', '카스', '화이트', '유흥시장', '중심...   \n",
       "4       ['켈리', '재판매', '금지', '류난영', '기', '하이트진로', '맥주',...   \n",
       "...                                                   ...   \n",
       "132331  ['에너지솔루션', '개', '순매수', '1위', '3', '코스피지수', '1'...   \n",
       "132332  ['투자금', '자산', '매각', '마련', '그룹', '투', '신중론', '회...   \n",
       "132333  ['차세대', '유니콘', '기대', '경영난', '고강도', '구조조정', '돌입...   \n",
       "132334  ['포스코퓨처엠', '개', '순매수', '1위', '코스피', '2', '외국인'...   \n",
       "132335  ['네이버', '카카오', '디지털', '휴먼', '경쟁력', '로지', '이정재'...   \n",
       "\n",
       "                                               token_list  \n",
       "0       ['안호근', '한국농업기술진흥원', '원장', '안호근', '한국농업기술진흥원',...  \n",
       "1       ['김성희', '노동대학원', '교수', '한국', '불안정한', '노사관계', '...  \n",
       "2       ['내수용', '공장', '출고', '수출용', '평균', '계약단', '기준', ...  \n",
       "3       ['대기업', '브랜드', '밀맥주', '카스', '화이트', '유흥시장', '중심...  \n",
       "4       ['켈리', '재판매', '금지', '류난영', '하이트진로', '맥주', '켈리'...  \n",
       "...                                                   ...  \n",
       "132331  ['에너지솔루션', '순매수', '코스피지수', '코스피지수', '거래', '지수'...  \n",
       "132332  ['투자금', '자산', '매각', '마련', '신중론', '회장', '지시', '...  \n",
       "132333  ['차세대', '유니콘', '기대', '경영난', '고강도', '구조조정', '돌입...  \n",
       "132334  ['포스코퓨처엠', '순매수', '코스피', '외국인', '기관', '수세', '안...  \n",
       "132335  ['네이버', '카카오', '디지털', '휴먼', '경쟁력', '로지', '이정재'...  \n",
       "\n",
       "[132336 rows x 9 columns]"
      ]
     },
     "execution_count": 4,
     "metadata": {},
     "output_type": "execute_result"
    }
   ],
   "source": [
    "news = pd.read_csv('final.csv')\n",
    "news"
   ]
  },
  {
   "cell_type": "code",
   "execution_count": 5,
   "id": "67298971",
   "metadata": {},
   "outputs": [
    {
     "data": {
      "text/plain": [
       "label\n",
       "1    81925\n",
       "0    50411\n",
       "Name: count, dtype: int64"
      ]
     },
     "execution_count": 5,
     "metadata": {},
     "output_type": "execute_result"
    }
   ],
   "source": [
    "news.label.value_counts()"
   ]
  },
  {
   "cell_type": "markdown",
   "id": "551f2812",
   "metadata": {},
   "source": [
    "# 모델링 진행하기"
   ]
  },
  {
   "cell_type": "markdown",
   "id": "cf89c211",
   "metadata": {},
   "source": [
    "#### 1) stopword_token str->list형태로 변환하기"
   ]
  },
  {
   "cell_type": "code",
   "execution_count": null,
   "id": "9c0bcd93",
   "metadata": {},
   "outputs": [],
   "source": [
    "# news['stopword_tokened'] = news['stopword_tokened'].apply(lambda text: text.split(', '))\n",
    "\n",
    "# news"
   ]
  },
  {
   "cell_type": "markdown",
   "id": "3b72933a",
   "metadata": {},
   "source": [
    "## 2) 데이터 셋 나누기"
   ]
  },
  {
   "cell_type": "code",
   "execution_count": 9,
   "id": "257d935c",
   "metadata": {},
   "outputs": [
    {
     "name": "stdout",
     "output_type": "stream",
     "text": [
      "(113283,) (113283,) (19053,) (19053,)\n"
     ]
    }
   ],
   "source": [
    "test = news.loc[news[\"date\"] >= '2023-07-20 00:00:00']\n",
    "train = news.loc[news[\"date\"] < '2023-07-20 00:00:00']\n",
    "\n",
    "X_train = train['token_list']\n",
    "y_train = train['label']\n",
    "X_test = test['token_list']\n",
    "y_test = test['label']\n",
    "\n",
    "print(X_train.shape, y_train.shape, X_test.shape, y_test.shape)"
   ]
  },
  {
   "cell_type": "code",
   "execution_count": 10,
   "id": "b96d7828",
   "metadata": {},
   "outputs": [],
   "source": [
    "# 30초 정도 걸림\n",
    "tokenizer = Tokenizer()\n",
    "tokenizer.fit_on_texts(X_train)"
   ]
  },
  {
   "cell_type": "code",
   "execution_count": 11,
   "id": "00425b8b",
   "metadata": {},
   "outputs": [
    {
     "name": "stdout",
     "output_type": "stream",
     "text": [
      "단어 집합(vocabulary)의 크기 : 253617\n",
      "등장 빈도가 3번 이하인 희귀 단어의 수: 124874\n",
      "단어 집합에서 희귀 단어의 비율: 49.23723567426474\n",
      "전체 등장 빈도에서 희귀 단어 등장 빈도 비율: 1.0446459589139299\n"
     ]
    }
   ],
   "source": [
    "threshold = 4\n",
    "total_cnt = len(tokenizer.word_index) # 단어의 수\n",
    "rare_cnt = 0 # 등장 빈도수가 threshold보다 작은 단어의 개수를 카운트\n",
    "total_freq = 0 # 훈련 데이터의 전체 단어 빈도수 총 합\n",
    "rare_freq = 0 # 등장 빈도수가 threshold보다 작은 단어의 등장 빈도수의 총 합\n",
    "\n",
    "# 단어와 빈도수의 쌍(pair)을 key와 value로 받는다.\n",
    "for key, value in tokenizer.word_counts.items():\n",
    "    total_freq = total_freq + value\n",
    "\n",
    "    # 단어의 등장 빈도수가 threshold보다 작으면\n",
    "    if(value < threshold):\n",
    "        rare_cnt = rare_cnt + 1\n",
    "        rare_freq = rare_freq + value\n",
    "\n",
    "print('단어 집합(vocabulary)의 크기 :',total_cnt)\n",
    "print('등장 빈도가 %s번 이하인 희귀 단어의 수: %s'%(threshold - 1, rare_cnt))\n",
    "print(\"단어 집합에서 희귀 단어의 비율:\", (rare_cnt / total_cnt)*100)\n",
    "print(\"전체 등장 빈도에서 희귀 단어 등장 빈도 비율:\", (rare_freq / total_freq)*100)"
   ]
  },
  {
   "cell_type": "code",
   "execution_count": 12,
   "id": "b38bdbfb",
   "metadata": {},
   "outputs": [
    {
     "name": "stdout",
     "output_type": "stream",
     "text": [
      "단어 집합의 크기 : 128744\n"
     ]
    }
   ],
   "source": [
    "vocab_size = total_cnt - rare_cnt + 1\n",
    "print('단어 집합의 크기 :',vocab_size)"
   ]
  },
  {
   "cell_type": "code",
   "execution_count": 13,
   "id": "5acb9c23",
   "metadata": {},
   "outputs": [],
   "source": [
    "# 1분 정도 걸림\n",
    "tokenizer = Tokenizer(vocab_size, oov_token='OOV')\n",
    "tokenizer.fit_on_texts(X_train)\n",
    "X_train = tokenizer.texts_to_sequences(X_train)\n",
    "X_test = tokenizer.texts_to_sequences(X_test)"
   ]
  },
  {
   "cell_type": "code",
   "execution_count": 14,
   "id": "c43a42f1",
   "metadata": {},
   "outputs": [],
   "source": [
    "#1~2분 걸림\n",
    "\n",
    "y_train = np.array(y_train)\n",
    "y_test = np.array(y_test)"
   ]
  },
  {
   "cell_type": "code",
   "execution_count": 15,
   "id": "18fe425d",
   "metadata": {},
   "outputs": [
    {
     "name": "stdout",
     "output_type": "stream",
     "text": [
      "112968\n",
      "112968\n"
     ]
    }
   ],
   "source": [
    "# X_train과 y_train의 길이가 같다고 가정합니다.\n",
    "# 만약 길이가 다르다면, 이에 대한 처리를 추가해야 합니다.\n",
    "\n",
    "# 문장 길이가 1보다 큰 인덱스와 그에 해당하는 문장을 찾습니다.\n",
    "drop_train = [(index, sentence) for index, sentence in enumerate(X_train) if len(sentence) > 1]\n",
    "\n",
    "# 유효한 인덱스와 문장을 사용하여 새로운 X_train과 y_train을 생성합니다.\n",
    "X_train = np.array([sentence for index, sentence in drop_train], dtype=object)\n",
    "y_train = np.array([y_train[index] for index, sentence in drop_train])\n",
    "\n",
    "print(len(X_train))\n",
    "print(len(y_train))"
   ]
  },
  {
   "cell_type": "code",
   "execution_count": 16,
   "id": "2a337073",
   "metadata": {},
   "outputs": [
    {
     "name": "stdout",
     "output_type": "stream",
     "text": [
      "리뷰 최대 길이: 1762\n",
      "리뷰 평균 길이: 178.06133595354436\n"
     ]
    }
   ],
   "source": [
    "print('리뷰 최대 길이:', max(len(l) for l in X_train))\n",
    "print('리뷰 평균 길이:', sum(map(len, X_train)) / len(X_train))"
   ]
  },
  {
   "cell_type": "code",
   "execution_count": 17,
   "id": "95862a5b",
   "metadata": {},
   "outputs": [
    {
     "data": {
      "image/png": "[encoded data removed]",
      "text/plain": [
       "<Figure size 640x480 with 1 Axes>"
      ]
     },
     "metadata": {},
     "output_type": "display_data"
    }
   ],
   "source": [
    "import matplotlib.pyplot as plt\n",
    "plt.style.use('seaborn-white')\n",
    "\n",
    "plt.hist([len(s) for s in X_train], bins=50)\n",
    "plt.xlabel('Length of Samples')\n",
    "plt.ylabel('Number of Samples')\n",
    "plt.show()"
   ]
  },
  {
   "cell_type": "code",
   "execution_count": 18,
   "id": "c464f52d",
   "metadata": {},
   "outputs": [],
   "source": [
    "max_len = 800"
   ]
  },
  {
   "cell_type": "code",
   "execution_count": 19,
   "id": "88357d73",
   "metadata": {},
   "outputs": [],
   "source": [
    "# X_train과 X_test의 각 시퀀스들의 길이를 max_len으로 맞추는 작업을 수행하고 있습니다.\n",
    "\n",
    "# 예를 들어, 만약 max_len이 100이라고 하면, 각 시퀀스의 길이가 100보다 작으면 부족한 부분을 0으로 채워서 길이를 100으로 만들어줍니다. \n",
    "# 만약 시퀀스의 길이가 100보다 크다면, 잘라서 길이를 100으로 만들어줍니다.\n",
    "\n",
    "# 이렇게 패딩을 수행하면, 모델이 다양한 길이의 시퀀스를 처리할 수 있게 되며, 일정한 형태로 데이터를 입력으로 받을 수 있게 됩니다.\n",
    "\n",
    "X_train = pad_sequences(X_train, maxlen=max_len)\n",
    "X_test = pad_sequences(X_test, maxlen=max_len)"
   ]
  },
  {
   "cell_type": "code",
   "execution_count": 20,
   "id": "0276a54b",
   "metadata": {},
   "outputs": [],
   "source": [
    "# (CNN) 기반의 텍스트 분류 모델을 설정하는 데 사용되는 하이퍼파라미터들을 정의\n",
    "\n",
    "embedding_dim = max_len # 임베딩 벡터의 차원, 텍스트 데이터를 임베딩하여 고차원 벡터로 변환\n",
    "dropout_ratio = 0.4 # 드롭아웃 비율, 드롭아웃은 모델의 과적합을 방지하고 일반화 성능을 향상시키기 위해 사용되는 정규화 기법\n",
    "num_filters = 2 # 커널의 수,  CNN은 여러 개의 커널을 사용하여 다양한 특징을 추출\n",
    "kernel_size = 3 # 커널의 크기, 텍스트 데이터에서 연속된 단어들을 몇 개씩 묶어서 특징을 추출\n",
    "hidden_units = 128 # 은닉층의 뉴런 수"
   ]
  },
  {
   "cell_type": "code",
   "execution_count": 21,
   "id": "9595ad9c",
   "metadata": {},
   "outputs": [
    {
     "name": "stdout",
     "output_type": "stream",
     "text": [
      "Model: \"sequential\"\n",
      "_________________________________________________________________\n",
      " Layer (type)                Output Shape              Param #   \n",
      "=================================================================\n",
      " embedding (Embedding)       (None, None, 800)         102995200 \n",
      "                                                                 \n",
      " dropout (Dropout)           (None, None, 800)         0         \n",
      "                                                                 \n",
      " conv1d (Conv1D)             (None, None, 2)           4802      \n",
      "                                                                 \n",
      " global_max_pooling1d (Glob  (None, 2)                 0         \n",
      " alMaxPooling1D)                                                 \n",
      "                                                                 \n",
      " dense (Dense)               (None, 128)               384       \n",
      "                                                                 \n",
      " dropout_1 (Dropout)         (None, 128)               0         \n",
      "                                                                 \n",
      " dense_1 (Dense)             (None, 1)                 129       \n",
      "                                                                 \n",
      "=================================================================\n",
      "Total params: 103000515 (392.92 MB)\n",
      "Trainable params: 103000515 (392.92 MB)\n",
      "Non-trainable params: 0 (0.00 Byte)\n",
      "_________________________________________________________________\n"
     ]
    }
   ],
   "source": [
    "model = Sequential() # Sequential 모델 객체를 생성. 이 객체는 레이어를 순차적으로 쌓아 모델을 정의.\n",
    "model.add(Embedding(vocab_size, embedding_dim)) # 이 레이어는 단어를 고차원 벡터로 변환하는 역할\n",
    "model.add(Dropout(dropout_ratio)) # 모델의 일반화를 향상시키기 위해 뉴런을 임의로 비활성화하는 드롭아웃 기법\n",
    "model.add(Conv1D(num_filters, kernel_size, padding = 'valid', activation = 'relu')) #  주어진 kernel_size와 num_filters로 텍스트 데이터의 지역적 특징을 추출합니다. 활성화 함수로 'relu'를 사용하며, 'valid' 패딩을 적용하여 출력 크기를 조절\n",
    "model.add(GlobalMaxPooling1D()) # 각 필터에서 가장 높은 특징값을 선택하여 모아 전체 시퀀스의 특징 벡터를 만듭니다.\n",
    "model.add(Dense(hidden_units, activation='relu'))  #  hidden_units 개의 뉴런으로 구성되며, 'relu' 활성화 함수를 사용\n",
    "model.add(Dropout(dropout_ratio)) # 다시 한 번 드롭아웃 레이어를 적용\n",
    "model.add(Dense(1, activation = 'sigmoid')) # 이진 분류 문제를 다루기 위해 'sigmoid' 활성화 함수를 사용\n",
    "\n",
    "model.summary()"
   ]
  },
  {
   "cell_type": "code",
   "execution_count": 22,
   "id": "b40f7d27",
   "metadata": {},
   "outputs": [],
   "source": [
    "# Keras의 EarlyStopping과 ModelCheckpoint 콜백을 설정하는 부분\n",
    "# 이 두 가지 콜백은 모델 학습 과정을 조정하고 모니터링하는 데 사용\n",
    "\n",
    "\n",
    "es = EarlyStopping(monitor = 'val_loss', mode = 'min', verbose = 1, patience = 3)\n",
    "mc = ModelCheckpoint('TextCNN_best_model(learning_rate).h5', monitor = 'val_acc', mode = 'max', verbose = 1, save_best_only = True)"
   ]
  },
  {
   "cell_type": "code",
   "execution_count": 23,
   "id": "f4f84aa9",
   "metadata": {
    "scrolled": true
   },
   "outputs": [
    {
     "name": "stdout",
     "output_type": "stream",
     "text": [
      "Epoch 1/10\n"
     ]
    },
    {
     "name": "stderr",
     "output_type": "stream",
     "text": [
      "C:\\Users\\이수호\\AppData\\Roaming\\Python\\Python39\\site-packages\\tensorflow\\python\\framework\\indexed_slices.py:446: UserWarning: Converting sparse IndexedSlices to a dense Tensor with 102995200 elements. This may consume a large amount of memory.\n",
      "  warnings.warn(\n"
     ]
    },
    {
     "name": "stdout",
     "output_type": "stream",
     "text": [
      "707/707 [==============================] - ETA: 0s - loss: 0.6429 - acc: 0.6487\n",
      "Epoch 1: val_acc improved from -inf to 0.64893, saving model to TextCNN_best_model(learning_rate).h5\n"
     ]
    },
    {
     "name": "stderr",
     "output_type": "stream",
     "text": [
      "C:\\Users\\이수호\\AppData\\Roaming\\Python\\Python39\\site-packages\\keras\\src\\engine\\training.py:3000: UserWarning: You are saving your model as an HDF5 file via `model.save()`. This file format is considered legacy. We recommend using instead the native Keras format, e.g. `model.save('my_model.keras')`.\n",
      "  saving_api.save_model(\n"
     ]
    },
    {
     "name": "stdout",
     "output_type": "stream",
     "text": [
      "707/707 [==============================] - 2573s 4s/step - loss: 0.6429 - acc: 0.6487 - val_loss: 0.6472 - val_acc: 0.6489\n",
      "Epoch 2/10\n",
      "707/707 [==============================] - ETA: 0s - loss: 0.6156 - acc: 0.6515\n",
      "Epoch 2: val_acc did not improve from 0.64893\n",
      "707/707 [==============================] - 4223s 6s/step - loss: 0.6156 - acc: 0.6515 - val_loss: 0.6488 - val_acc: 0.6458\n",
      "Epoch 3/10\n",
      "707/707 [==============================] - ETA: 0s - loss: 0.5795 - acc: 0.6721\n",
      "Epoch 3: val_acc did not improve from 0.64893\n",
      "707/707 [==============================] - 4192s 6s/step - loss: 0.5795 - acc: 0.6721 - val_loss: 0.6537 - val_acc: 0.6260\n",
      "Epoch 4/10\n",
      "707/707 [==============================] - ETA: 0s - loss: 0.5457 - acc: 0.6995 \n",
      "Epoch 4: val_acc did not improve from 0.64893\n",
      "707/707 [==============================] - 13673s 19s/step - loss: 0.5457 - acc: 0.6995 - val_loss: 0.6791 - val_acc: 0.6170\n",
      "Epoch 4: early stopping\n"
     ]
    }
   ],
   "source": [
    "import tensorflow as tf\n",
    "model.compile(optimizer=tf.keras.optimizers.Nadam(learning_rate = 0.005), loss='binary_crossentropy', metrics = ['acc'])\n",
    "history = model.fit(X_train, y_train, epochs=10, validation_split = 0.2, callbacks=[es, mc], batch_size = 128)"
   ]
  },
  {
   "cell_type": "code",
   "execution_count": 24,
   "id": "d819da66",
   "metadata": {
    "scrolled": true
   },
   "outputs": [
    {
     "name": "stdout",
     "output_type": "stream",
     "text": [
      "596/596 [==============================] - 26s 43ms/step - loss: 0.7380 - acc: 0.4403\n"
     ]
    },
    {
     "data": {
      "text/plain": [
       "[0.7380066514015198, 0.4402981102466583]"
      ]
     },
     "execution_count": 24,
     "metadata": {},
     "output_type": "execute_result"
    }
   ],
   "source": [
    "loaded_model = load_model('TextCNN_best_model(learning_rate).h5')\n",
    "loaded_model.evaluate(X_test, y_test)"
   ]
  },
  {
   "cell_type": "code",
   "execution_count": null,
   "id": "562f218a",
   "metadata": {},
   "outputs": [],
   "source": []
  }
 ],
 "metadata": {
  "kernelspec": {
   "display_name": "Python 3 (ipykernel)",
   "language": "python",
   "name": "python3"
  },
  "language_info": {
   "codemirror_mode": {
    "name": "ipython",
    "version": 3
   },
   "file_extension": ".py",
   "mimetype": "text/x-python",
   "name": "python",
   "nbconvert_exporter": "python",
   "pygments_lexer": "ipython3",
   "version": "3.9.13"
  }
 },
 "nbformat": 4,
 "nbformat_minor": 5
}
